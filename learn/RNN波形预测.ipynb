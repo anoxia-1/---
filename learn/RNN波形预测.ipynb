{
 "cells": [
  {
   "cell_type": "markdown",
   "metadata": {},
   "source": [
    "<img src=\"./photo/2d64bf2071b7d919047d1f64df80b9c.png\" width='20%'>"
   ]
  },
  {
   "cell_type": "code",
   "execution_count": 12,
   "metadata": {},
   "outputs": [
    {
     "name": "stdout",
     "output_type": "stream",
     "text": [
      "[0]\n"
     ]
    }
   ],
   "source": [
    "import numpy as np\n",
    "#0-3随机取值\n",
    "start = np.random.randint(3, size=1)\n",
    "print(start)\n",
    "start = start[0]"
   ]
  },
  {
   "cell_type": "code",
   "execution_count": 13,
   "metadata": {},
   "outputs": [
    {
     "name": "stdout",
     "output_type": "stream",
     "text": [
      "[ 0.          0.52631579  1.05263158  1.57894737  2.10526316  2.63157895\n",
      "  3.15789474  3.68421053  4.21052632  4.73684211  5.26315789  5.78947368\n",
      "  6.31578947  6.84210526  7.36842105  7.89473684  8.42105263  8.94736842\n",
      "  9.47368421 10.        ]\n"
     ]
    }
   ],
   "source": [
    "time_steps=np.linspace(start, start+10, 20)\n",
    "print(time_steps)"
   ]
  },
  {
   "cell_type": "code",
   "execution_count": 14,
   "metadata": {},
   "outputs": [],
   "source": [
    "data = np.sin(time_steps)"
   ]
  },
  {
   "cell_type": "code",
   "execution_count": 15,
   "metadata": {},
   "outputs": [
    {
     "name": "stdout",
     "output_type": "stream",
     "text": [
      "[[ 0.        ]\n",
      " [ 0.50235115]\n",
      " [ 0.86872962]\n",
      " [ 0.99996678]\n",
      " [ 0.86054034]\n",
      " [ 0.48818921]\n",
      " [-0.01630136]\n",
      " [-0.5163796 ]\n",
      " [-0.87668803]\n",
      " [-0.99970104]\n",
      " [-0.85212237]\n",
      " [-0.47389753]\n",
      " [ 0.03259839]\n",
      " [ 0.53027082]\n",
      " [ 0.88441346]\n",
      " [ 0.99916962]\n",
      " [ 0.84347795]\n",
      " [ 0.4594799 ]\n",
      " [-0.04888676]\n",
      " [-0.54402111]]\n"
     ]
    }
   ],
   "source": [
    "data=data.reshape(20,1)\n",
    "print(data)"
   ]
  },
  {
   "cell_type": "code",
   "execution_count": 16,
   "metadata": {},
   "outputs": [
    {
     "name": "stdout",
     "output_type": "stream",
     "text": [
      "tensor([[[ 0.0000],\n",
      "         [ 0.5024],\n",
      "         [ 0.8687],\n",
      "         [ 1.0000],\n",
      "         [ 0.8605],\n",
      "         [ 0.4882],\n",
      "         [-0.0163],\n",
      "         [-0.5164],\n",
      "         [-0.8767],\n",
      "         [-0.9997],\n",
      "         [-0.8521],\n",
      "         [-0.4739],\n",
      "         [ 0.0326],\n",
      "         [ 0.5303],\n",
      "         [ 0.8844],\n",
      "         [ 0.9992],\n",
      "         [ 0.8435],\n",
      "         [ 0.4595],\n",
      "         [-0.0489]]])\n",
      "tensor([[[ 0.5024],\n",
      "         [ 0.8687],\n",
      "         [ 1.0000],\n",
      "         [ 0.8605],\n",
      "         [ 0.4882],\n",
      "         [-0.0163],\n",
      "         [-0.5164],\n",
      "         [-0.8767],\n",
      "         [-0.9997],\n",
      "         [-0.8521],\n",
      "         [-0.4739],\n",
      "         [ 0.0326],\n",
      "         [ 0.5303],\n",
      "         [ 0.8844],\n",
      "         [ 0.9992],\n",
      "         [ 0.8435],\n",
      "         [ 0.4595],\n",
      "         [-0.0489],\n",
      "         [-0.5440]]])\n"
     ]
    }
   ],
   "source": [
    "import torch\n",
    "x=torch.tensor(data[:-1]).float().view(1,19,1)\n",
    "y=torch.tensor(data[1:]).float().view(1,19,1)\n",
    "print(x)\n",
    "print(y)"
   ]
  },
  {
   "cell_type": "code",
   "execution_count": 17,
   "metadata": {},
   "outputs": [],
   "source": [
    "\"\"\"_summary_\n",
    "\n",
    "Returns:\n",
    "    _type_: _description_\n",
    "\"\"\"\n",
    "class Net(torch.nn.Module):\n",
    "    def __init__(self):\n",
    "        super(Net,self).__init__()\n",
    "        self.rnn=torch.nn.RNN(1,10,2,batch_first=True)\n",
    "        self.linear=torch.nn.Linear(10,1)\n",
    "        \n",
    "    def forward(self, x,hidden_prev):\n",
    "        out,h = self.rnn(x,hidden_prev)\n",
    "        #out:(batch_size,seq_len,hidden_size)->(batch_size*seq_len,hidden_size)\n",
    "        out = out.view(-1,10)\n",
    "        #out:(batch_size*seq_len,hidden_size)->(batch_size*seq_len,1)\n",
    "        out = self.linear(out)\n",
    "        out = out.view(1,x.shape[1],1)##(batch_size*seq_len,1)->(batch,seq_len,1)与y进行比较，y的维度是(batch,19,1)\n",
    "        return out,h"
   ]
  },
  {
   "cell_type": "code",
   "execution_count": 18,
   "metadata": {},
   "outputs": [],
   "source": [
    "from torch import optim\n",
    "model=Net()\n",
    "criterion=torch.nn.MSELoss()\n",
    "optimizer=optim.Adam(model.parameters(),lr=0.0009)"
   ]
  },
  {
   "cell_type": "code",
   "execution_count": 19,
   "metadata": {},
   "outputs": [
    {
     "name": "stderr",
     "output_type": "stream",
     "text": [
      " 14%|█▍        | 138/1000 [00:00<00:02, 337.76it/s]"
     ]
    },
    {
     "name": "stdout",
     "output_type": "stream",
     "text": [
      "Epoch:100,Loss:0.20872\n"
     ]
    },
    {
     "name": "stderr",
     "output_type": "stream",
     "text": [
      " 24%|██▍       | 244/1000 [00:00<00:02, 312.59it/s]"
     ]
    },
    {
     "name": "stdout",
     "output_type": "stream",
     "text": [
      "Epoch:200,Loss:0.04131\n"
     ]
    },
    {
     "name": "stderr",
     "output_type": "stream",
     "text": [
      " 35%|███▍      | 347/1000 [00:01<00:02, 308.69it/s]"
     ]
    },
    {
     "name": "stdout",
     "output_type": "stream",
     "text": [
      "Epoch:300,Loss:0.03196\n"
     ]
    },
    {
     "name": "stderr",
     "output_type": "stream",
     "text": [
      " 45%|████▍     | 448/1000 [00:01<00:01, 314.27it/s]"
     ]
    },
    {
     "name": "stdout",
     "output_type": "stream",
     "text": [
      "Epoch:400,Loss:0.02733\n"
     ]
    },
    {
     "name": "stderr",
     "output_type": "stream",
     "text": [
      " 54%|█████▍    | 542/1000 [00:01<00:01, 278.89it/s]"
     ]
    },
    {
     "name": "stdout",
     "output_type": "stream",
     "text": [
      "Epoch:500,Loss:0.01362\n"
     ]
    },
    {
     "name": "stderr",
     "output_type": "stream",
     "text": [
      " 65%|██████▌   | 653/1000 [00:02<00:01, 306.86it/s]"
     ]
    },
    {
     "name": "stdout",
     "output_type": "stream",
     "text": [
      "Epoch:600,Loss:0.00628\n"
     ]
    },
    {
     "name": "stderr",
     "output_type": "stream",
     "text": [
      " 73%|███████▎  | 729/1000 [00:02<00:00, 329.57it/s]"
     ]
    },
    {
     "name": "stdout",
     "output_type": "stream",
     "text": [
      "Epoch:700,Loss:0.01462\n"
     ]
    },
    {
     "name": "stderr",
     "output_type": "stream",
     "text": [
      " 84%|████████▎ | 835/1000 [00:02<00:00, 342.96it/s]"
     ]
    },
    {
     "name": "stdout",
     "output_type": "stream",
     "text": [
      "Epoch:800,Loss:0.00840\n"
     ]
    },
    {
     "name": "stderr",
     "output_type": "stream",
     "text": [
      " 94%|█████████▍| 941/1000 [00:02<00:00, 327.94it/s]"
     ]
    },
    {
     "name": "stdout",
     "output_type": "stream",
     "text": [
      "Epoch:900,Loss:0.00114\n"
     ]
    },
    {
     "name": "stderr",
     "output_type": "stream",
     "text": [
      "100%|██████████| 1000/1000 [00:03<00:00, 318.89it/s]"
     ]
    },
    {
     "name": "stdout",
     "output_type": "stream",
     "text": [
      "Epoch:1000,Loss:0.00235\n"
     ]
    },
    {
     "name": "stderr",
     "output_type": "stream",
     "text": [
      "\n"
     ]
    }
   ],
   "source": [
    "import tqdm\n",
    "hidden_prev = torch.zeros(2,1,10)\n",
    "for epoch in tqdm.tqdm(range(1000)):\n",
    "    start = np.random.randint(10, size=1)[0]\n",
    "    # start=0\n",
    "    time_steps=np.linspace(start, start+10, 20)\n",
    "    data = np.sin(time_steps)\n",
    "    data=data.reshape(20,1)\n",
    "    x=torch.tensor(data[:-1]).float().view(1,19,1)\n",
    "    y=torch.tensor(data[1:]).float().view(1,19,1)\n",
    "    out,h=model(x,hidden_prev)\n",
    "    loss=criterion(out,y)\n",
    "    optimizer.zero_grad()\n",
    "    loss.backward()\n",
    "    optimizer.step()\n",
    "    if (epoch+1)%100==0:\n",
    "        print('Epoch:{},Loss:{:.5f}'.format(epoch+1,loss.item()))"
   ]
  },
  {
   "cell_type": "code",
   "execution_count": 20,
   "metadata": {},
   "outputs": [],
   "source": [
    "prediction= []\n",
    "input=x[:,0,:]\n",
    "for _ in range(19):\n",
    "    input=input.view(1,1,1)\n",
    "    (pred, hidden_prev) = model(input, hidden_prev)\n",
    "    input = pred\n",
    "    prediction.append(pred.squeeze().item())"
   ]
  },
  {
   "cell_type": "code",
   "execution_count": 21,
   "metadata": {},
   "outputs": [
    {
     "name": "stdout",
     "output_type": "stream",
     "text": [
      "[-0.856978714466095, -0.7791039943695068, -0.4268551468849182, 0.03729294240474701, 0.5509819388389587, 0.9199844002723694, 1.0106585025787354, 0.8119049668312073, 0.42815274000167847, -0.048210740089416504, -0.5180776715278625, -0.848236620426178, -0.9216548800468445, -0.7309305667877197, -0.34564530849456787, 0.14864520728588104, 0.6443497538566589, 0.9766541123390198, 1.0068187713623047]\n",
      "[-0.756802499294281, -0.9827382564544678, -0.9426737427711487, -0.647453248500824, -0.17698490619659424, 0.34138840436935425, 0.7673572301864624, 0.9856234788894653, 0.9371084570884705, 0.6349438428878784, 0.16091737151145935, -0.3566650450229645, -0.7777079939842224, -0.988246738910675, -0.9312941431999207, -0.6222657561302185, -0.14480707049369812, 0.37184691429138184, 0.7878521084785461]\n"
     ]
    }
   ],
   "source": [
    "print(prediction)\n",
    "print(x.squeeze().tolist())"
   ]
  },
  {
   "cell_type": "code",
   "execution_count": 22,
   "metadata": {},
   "outputs": [
    {
     "data": {
      "image/png": "[encoded data removed]",
      "text/plain": [
       "<Figure size 640x480 with 1 Axes>"
      ]
     },
     "metadata": {},
     "output_type": "display_data"
    }
   ],
   "source": [
    "import matplotlib.pyplot as plt\n",
    "\n",
    "# Convert tensors to numpy arrays\n",
    "x_values = x.squeeze().tolist()\n",
    "prediction_values = prediction\n",
    "\n",
    "# Plot the curves\n",
    "plt.plot(time_steps[:-1], x_values, label='x')\n",
    "plt.plot(time_steps[1:], prediction_values, label='prediction')\n",
    "\n",
    "# Add labels and title\n",
    "plt.xlabel('Time Steps')\n",
    "plt.ylabel('Value')\n",
    "plt.title('Curves of x and prediction')\n",
    "\n",
    "# Add legend\n",
    "plt.legend()\n",
    "\n",
    "# Show the plot\n",
    "plt.show()"
   ]
  },
  {
   "cell_type": "code",
   "execution_count": null,
   "metadata": {},
   "outputs": [],
   "source": []
  }
 ],
 "metadata": {
  "kernelspec": {
   "display_name": "torch_env_gpu",
   "language": "python",
   "name": "python3"
  },
  "language_info": {
   "codemirror_mode": {
    "name": "ipython",
    "version": 3
   },
   "file_extension": ".py",
   "mimetype": "text/x-python",
   "name": "python",
   "nbconvert_exporter": "python",
   "pygments_lexer": "ipython3",
   "version": "3.10.14"
  }
 },
 "nbformat": 4,
 "nbformat_minor": 2
}
