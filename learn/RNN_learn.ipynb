{
 "cells": [
  {
   "cell_type": "markdown",
   "metadata": {
    "vscode": {
     "languageId": "html"
    }
   },
   "source": [
    "![本地图片](./photo/59c5cf53eb1a4c34c95e10f6c4a29ab.jpg)"
   ]
  },
  {
   "cell_type": "markdown",
   "metadata": {},
   "source": [
    "<p align = \"center\">    \n",
    "<img  src=\"./photo/59c5cf53eb1a4c34c95e10f6c4a29ab.jpg\" width=\"400\" />\n",
    "<img  src=\"./photo/59c5cf53eb1a4c34c95e10f6c4a29ab.jpg\" width=\"400\" />\n",
    "<img  src=\"./photo/59c5cf53eb1a4c34c95e10f6c4a29ab.jpg\" width=\"400\" />\n",
    "<img  src=\"./photo/59c5cf53eb1a4c34c95e10f6c4a29ab.jpg\" width=\"400\" />\n",
    "</p>"
   ]
  },
  {
   "cell_type": "markdown",
   "metadata": {},
   "source": [
    "多层RNN\n",
    "\n",
    "<img src=\"./photo/96be34503aeca64c50e58c5f187d207.jpg\" width=\"50%\">"
   ]
  },
  {
   "cell_type": "code",
   "execution_count": 9,
   "metadata": {},
   "outputs": [
    {
     "data": {
      "text/plain": [
       "odict_keys(['weight_ih_l0', 'weight_hh_l0', 'bias_ih_l0', 'bias_hh_l0', 'weight_ih_l1', 'weight_hh_l1', 'bias_ih_l1', 'bias_hh_l1'])"
      ]
     },
     "execution_count": 9,
     "metadata": {},
     "output_type": "execute_result"
    }
   ],
   "source": [
    "import torch\n",
    "# 100指输入单词的embedding维度，20指h的维度(又称memory size),比如h0是初始化为（batch，20）的全零张量,n_layers指纵向上的层数量（RNN的层数），每个时间步的每层rnn都有一个whh和wih\n",
    "#但在每个时间步的同一层上这些参数是共享的\n",
    "rnn = torch.nn.RNN(100, 20,num_layers=2)\n",
    "rnn._parameters.keys()"
   ]
  },
  {
   "cell_type": "code",
   "execution_count": 10,
   "metadata": {},
   "outputs": [
    {
     "data": {
      "text/plain": [
       "(torch.Size([20, 20]),\n",
       " torch.Size([20, 100]),\n",
       " torch.Size([20]),\n",
       " torch.Size([20]),\n",
       " torch.Size([20, 20]),\n",
       " torch.Size([20, 20]),\n",
       " torch.Size([20]),\n",
       " torch.Size([20]))"
      ]
     },
     "execution_count": 10,
     "metadata": {},
     "output_type": "execute_result"
    }
   ],
   "source": [
    "rnn.weight_hh_l0.shape, rnn.weight_ih_l0.shape, rnn.bias_hh_l0.shape, rnn.bias_ih_l0.shape, rnn.weight_hh_l1.shape, rnn.weight_ih_l1.shape, rnn.bias_hh_l1.shape, rnn.bias_ih_l1.shape"
   ]
  },
  {
   "cell_type": "markdown",
   "metadata": {},
   "source": [
    "# rnn的forword和output\n",
    "forword(x,h0)#h0的shape为（num_layers*num_directions,batch,hidden_size）,x的shape为（seq_len,batch,input_size）\n",
    "\n",
    "rnn的output的shape为（seq_len,batch,hidden_size*num_directions）"
   ]
  },
  {
   "cell_type": "code",
   "execution_count": 13,
   "metadata": {},
   "outputs": [
    {
     "name": "stdout",
     "output_type": "stream",
     "text": [
      "odict_keys(['weight_ih_l0', 'weight_hh_l0', 'weight_ih_l1', 'weight_hh_l1'])\n",
      "torch.Size([10, 3, 20]) torch.Size([2, 3, 20])\n"
     ]
    }
   ],
   "source": [
    "rnn = torch.nn.RNN(100, 20, num_layers=2, bias=False)\n",
    "print(rnn._parameters.keys())\n",
    "x=torch.randn(10, 3, 100)\n",
    "out, h = rnn(x)\n",
    "print(out.shape, h.shape)#out是每个时间步最后一层输出的集合，h是最后一个时间步所有层h的输出"
   ]
  },
  {
   "cell_type": "code",
   "execution_count": null,
   "metadata": {},
   "outputs": [],
   "source": []
  }
 ],
 "metadata": {
  "kernelspec": {
   "display_name": "torch_env_gpu",
   "language": "python",
   "name": "python3"
  },
  "language_info": {
   "codemirror_mode": {
    "name": "ipython",
    "version": 3
   },
   "file_extension": ".py",
   "mimetype": "text/x-python",
   "name": "python",
   "nbconvert_exporter": "python",
   "pygments_lexer": "ipython3",
   "version": "3.10.14"
  }
 },
 "nbformat": 4,
 "nbformat_minor": 2
}
